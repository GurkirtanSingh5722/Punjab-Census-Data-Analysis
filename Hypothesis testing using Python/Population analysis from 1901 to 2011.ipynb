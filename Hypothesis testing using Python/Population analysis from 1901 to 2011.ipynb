{
 "cells": [
  {
   "cell_type": "markdown",
   "metadata": {},
   "source": [
    "# *Hypothesis Testing on the Population count data of Punjab districts from 1901 TO 2011*\n"
   ]
  },
  {
   "cell_type": "code",
   "execution_count": 1,
   "metadata": {},
   "outputs": [],
   "source": [
    "# Necessary libraries imported\n",
    "import pandas as pd\n",
    "import numpy as np\n",
    "from scipy.stats import f_oneway, chi2_contingency, ttest_ind"
   ]
  },
  {
   "cell_type": "code",
   "execution_count": 2,
   "metadata": {},
   "outputs": [],
   "source": [
    "import warnings\n",
    "warnings.filterwarnings('ignore')"
   ]
  },
  {
   "cell_type": "code",
   "execution_count": 3,
   "metadata": {},
   "outputs": [],
   "source": [
    "df = pd.read_csv(\"Population_cleaned.csv\")"
   ]
  },
  {
   "cell_type": "code",
   "execution_count": 4,
   "metadata": {},
   "outputs": [
    {
     "data": {
      "text/html": [
       "<div>\n",
       "<style scoped>\n",
       "    .dataframe tbody tr th:only-of-type {\n",
       "        vertical-align: middle;\n",
       "    }\n",
       "\n",
       "    .dataframe tbody tr th {\n",
       "        vertical-align: top;\n",
       "    }\n",
       "\n",
       "    .dataframe thead th {\n",
       "        text-align: right;\n",
       "    }\n",
       "</style>\n",
       "<table border=\"1\" class=\"dataframe\">\n",
       "  <thead>\n",
       "    <tr style=\"text-align: right;\">\n",
       "      <th></th>\n",
       "      <th>Unnamed: 0</th>\n",
       "      <th>State/Union Territory/District</th>\n",
       "      <th>Census Year</th>\n",
       "      <th>Persons</th>\n",
       "      <th>Absolute change since previous census</th>\n",
       "      <th>Percentage change since previous census</th>\n",
       "      <th>Males</th>\n",
       "      <th>Females</th>\n",
       "    </tr>\n",
       "  </thead>\n",
       "  <tbody>\n",
       "    <tr>\n",
       "      <th>244</th>\n",
       "      <td>262</td>\n",
       "      <td>Barnala</td>\n",
       "      <td>1941</td>\n",
       "      <td>NaN</td>\n",
       "      <td>NaN</td>\n",
       "      <td>NaN</td>\n",
       "      <td>NaN</td>\n",
       "      <td>NaN</td>\n",
       "    </tr>\n",
       "    <tr>\n",
       "      <th>96</th>\n",
       "      <td>102</td>\n",
       "      <td>Moga</td>\n",
       "      <td>1901</td>\n",
       "      <td>NaN</td>\n",
       "      <td>NaN</td>\n",
       "      <td>NaN</td>\n",
       "      <td>NaN</td>\n",
       "      <td>NaN</td>\n",
       "    </tr>\n",
       "    <tr>\n",
       "      <th>159</th>\n",
       "      <td>170</td>\n",
       "      <td>Mansa</td>\n",
       "      <td>1931</td>\n",
       "      <td>NaN</td>\n",
       "      <td>NaN</td>\n",
       "      <td>NaN</td>\n",
       "      <td>NaN</td>\n",
       "      <td>NaN</td>\n",
       "    </tr>\n",
       "    <tr>\n",
       "      <th>247</th>\n",
       "      <td>265</td>\n",
       "      <td>Barnala</td>\n",
       "      <td>1971</td>\n",
       "      <td>292463.0</td>\n",
       "      <td>50095.0</td>\n",
       "      <td>20.668983</td>\n",
       "      <td>158673.0</td>\n",
       "      <td>133790.0</td>\n",
       "    </tr>\n",
       "    <tr>\n",
       "      <th>160</th>\n",
       "      <td>171</td>\n",
       "      <td>Mansa</td>\n",
       "      <td>1941</td>\n",
       "      <td>NaN</td>\n",
       "      <td>NaN</td>\n",
       "      <td>NaN</td>\n",
       "      <td>NaN</td>\n",
       "      <td>NaN</td>\n",
       "    </tr>\n",
       "  </tbody>\n",
       "</table>\n",
       "</div>"
      ],
      "text/plain": [
       "     Unnamed: 0 State/Union Territory/District  Census Year   Persons  \\\n",
       "244         262                        Barnala         1941       NaN   \n",
       "96          102                           Moga         1901       NaN   \n",
       "159         170                          Mansa         1931       NaN   \n",
       "247         265                        Barnala         1971  292463.0   \n",
       "160         171                          Mansa         1941       NaN   \n",
       "\n",
       "     Absolute change since previous census  \\\n",
       "244                                    NaN   \n",
       "96                                     NaN   \n",
       "159                                    NaN   \n",
       "247                                50095.0   \n",
       "160                                    NaN   \n",
       "\n",
       "     Percentage change since previous census     Males   Females  \n",
       "244                                      NaN       NaN       NaN  \n",
       "96                                       NaN       NaN       NaN  \n",
       "159                                      NaN       NaN       NaN  \n",
       "247                                20.668983  158673.0  133790.0  \n",
       "160                                      NaN       NaN       NaN  "
      ]
     },
     "execution_count": 4,
     "metadata": {},
     "output_type": "execute_result"
    }
   ],
   "source": [
    "df.sample(5)"
   ]
  },
  {
   "cell_type": "code",
   "execution_count": 5,
   "metadata": {},
   "outputs": [
    {
     "name": "stdout",
     "output_type": "stream",
     "text": [
      "<class 'pandas.core.frame.DataFrame'>\n",
      "RangeIndex: 252 entries, 0 to 251\n",
      "Data columns (total 8 columns):\n",
      " #   Column                                   Non-Null Count  Dtype  \n",
      "---  ------                                   --------------  -----  \n",
      " 0   Unnamed: 0                               252 non-null    int64  \n",
      " 1   State/Union Territory/District           252 non-null    object \n",
      " 2   Census Year                              252 non-null    int64  \n",
      " 3   Persons                                  202 non-null    float64\n",
      " 4   Absolute change since previous census    181 non-null    float64\n",
      " 5   Percentage change since previous census  181 non-null    float64\n",
      " 6   Males                                    202 non-null    float64\n",
      " 7   Females                                  202 non-null    float64\n",
      "dtypes: float64(5), int64(2), object(1)\n",
      "memory usage: 15.9+ KB\n"
     ]
    }
   ],
   "source": [
    "df.info()"
   ]
  },
  {
   "cell_type": "markdown",
   "metadata": {},
   "source": [
    "- The census record of 8 princely States, which were merged into the former PEPSU in 1948, was not available for the previous decades. \n",
    " - In the result it was not possible to build up  comparative figures of four districts of PEPSU i.e. Kapurthala, Patiala, Sangrur and Bhatinda, for the period from 1901 to 1941. Also Barnala district population figures were not available from 1901 to 1951.\n",
    " - District formed after 2001 census are Barnala, Tarn Taran and Sahibzada Ajit Singh Nagar.\n",
    " "
   ]
  },
  {
   "cell_type": "markdown",
   "metadata": {},
   "source": [
    "## Lets do hypothesis testing for census years 1951 to 2011 for all districts.  "
   ]
  },
  {
   "cell_type": "code",
   "execution_count": 6,
   "metadata": {},
   "outputs": [],
   "source": [
    "df_filtered = df[(df['Census Year'] >= 1951) & (df['Census Year'] <= 2011)]\n"
   ]
  },
  {
   "cell_type": "code",
   "execution_count": 7,
   "metadata": {},
   "outputs": [
    {
     "data": {
      "text/plain": [
       "Census Year\n",
       "1951    21\n",
       "1961    21\n",
       "1971    21\n",
       "1981    21\n",
       "1991    21\n",
       "2001    21\n",
       "2011    21\n",
       "Name: count, dtype: int64"
      ]
     },
     "execution_count": 7,
     "metadata": {},
     "output_type": "execute_result"
    }
   ],
   "source": [
    "df_filtered[\"Census Year\"].value_counts()"
   ]
  },
  {
   "cell_type": "code",
   "execution_count": 8,
   "metadata": {},
   "outputs": [
    {
     "data": {
      "text/plain": [
       "Unnamed: 0                                  0\n",
       "State/Union Territory/District              0\n",
       "Census Year                                 0\n",
       "Persons                                     0\n",
       "Absolute change since previous census      10\n",
       "Percentage change since previous census    10\n",
       "Males                                       0\n",
       "Females                                     0\n",
       "dtype: int64"
      ]
     },
     "execution_count": 8,
     "metadata": {},
     "output_type": "execute_result"
    }
   ],
   "source": [
    "df_filtered.isna().sum()"
   ]
  },
  {
   "cell_type": "code",
   "execution_count": 9,
   "metadata": {},
   "outputs": [],
   "source": [
    "df_filtered.rename(columns={'State/Union Territory/District': 'District'}, inplace=True)"
   ]
  },
  {
   "cell_type": "markdown",
   "metadata": {},
   "source": [
    "- The missing values are of the absolute and percentage change since previous census for the year 1951 for districts mentioned above.\n"
   ]
  },
  {
   "cell_type": "markdown",
   "metadata": {},
   "source": [
    "### Hypothesis testing for: Population Growth Rate Across Decades (ANOVA Test)\n",
    "\n",
    "- **Null Hypothesis (H0):** There is no significant difference in the population growth rate across different decades.\n",
    "- **Alternative Hypothesis (H1):** There is a significant difference in the population growth rate across different decades.\n",
    "\n",
    "**ANOVA works by comparing the variance (spread) within each group (e.g., growth rates within a district or decade) to the variance between the groups (e.g., growth rates across different districts or decades)**"
   ]
  },
  {
   "cell_type": "code",
   "execution_count": 10,
   "metadata": {},
   "outputs": [],
   "source": [
    "# Calculate decade-wise population growth rate\n",
    "df_filtered['Decade'] = (df_filtered['Census Year'] // 10) * 10\n",
    "\n",
    "\n"
   ]
  },
  {
   "cell_type": "code",
   "execution_count": 11,
   "metadata": {},
   "outputs": [
    {
     "data": {
      "text/plain": [
       "Decade\n",
       "1950    21\n",
       "1960    21\n",
       "1970    21\n",
       "1980    21\n",
       "1990    21\n",
       "2000    21\n",
       "2010    21\n",
       "Name: count, dtype: int64"
      ]
     },
     "execution_count": 11,
     "metadata": {},
     "output_type": "execute_result"
    }
   ],
   "source": [
    "df_filtered[\"Decade\"].value_counts()"
   ]
  },
  {
   "cell_type": "code",
   "execution_count": 12,
   "metadata": {},
   "outputs": [],
   "source": [
    "# Calculate Growth Rate for 1951 to 2011\n",
    "df_filtered.loc[:, 'Growth Rate'] = df_filtered.groupby('District')['Persons'].pct_change() * 100\n",
    "\n"
   ]
  },
  {
   "cell_type": "code",
   "execution_count": 13,
   "metadata": {},
   "outputs": [],
   "source": [
    "# Fill NaN values (for 1951) using manual calculation\n",
    "for district in df_filtered['District'].unique():\n",
    "    # Get 1951 and 1961 population for the district\n",
    "    pop_1951 = df_filtered[(df_filtered['District'] == district) & (df_filtered['Census Year'] == 1951)]['Persons'].values[0]\n",
    "    pop_1961 = df_filtered[(df_filtered['District'] == district) & (df_filtered['Census Year'] == 1961)]['Persons'].values[0]\n",
    "    \n",
    "    # Calculate the growth rate from 1951 to 1961\n",
    "    growth_rate_1951 = ((pop_1961 - pop_1951) / pop_1951) * 100\n",
    "    \n",
    "    # Assign this value to the Growth Rate column for 1951\n",
    "    df_filtered.loc[(df_filtered['District'] == district) & (df_filtered['Census Year'] == 1951), 'Growth Rate'] = growth_rate_1951\n",
    "\n"
   ]
  },
  {
   "cell_type": "code",
   "execution_count": 14,
   "metadata": {},
   "outputs": [
    {
     "name": "stdout",
     "output_type": "stream",
     "text": [
      "     Unnamed: 0 District  Census Year     Persons  \\\n",
      "5             7   PUNJAB         1951   9160500.0   \n",
      "6             8   PUNJAB         1961  11135069.0   \n",
      "7             9   PUNJAB         1971  13551060.0   \n",
      "8            10   PUNJAB         1981  16788915.0   \n",
      "9            11   PUNJAB         1991  20281969.0   \n",
      "..          ...      ...          ...         ...   \n",
      "247         265  Barnala         1971    292463.0   \n",
      "248         266  Barnala         1981    362663.0   \n",
      "249         267  Barnala         1991    440772.0   \n",
      "250         268  Barnala         2001    526931.0   \n",
      "251         269  Barnala         2011    595527.0   \n",
      "\n",
      "     Absolute change since previous census  \\\n",
      "5                                -439736.0   \n",
      "6                                1974569.0   \n",
      "7                                2415991.0   \n",
      "8                                3237855.0   \n",
      "9                                3493054.0   \n",
      "..                                     ...   \n",
      "247                                50095.0   \n",
      "248                                70200.0   \n",
      "249                                78109.0   \n",
      "250                                86159.0   \n",
      "251                                68596.0   \n",
      "\n",
      "     Percentage change since previous census       Males    Females  Decade  \\\n",
      "5                                  -4.580471   4968206.0  4192294.0    1950   \n",
      "6                                  21.555254   6007566.0  5127503.0    1960   \n",
      "7                                  21.697135   7266515.0  6284545.0    1970   \n",
      "8                                  23.893740   8937210.0  7851705.0    1980   \n",
      "9                                  20.805716  10778034.0  9503935.0    1990   \n",
      "..                                       ...         ...        ...     ...   \n",
      "247                                20.668983    158673.0   133790.0    1970   \n",
      "248                                24.003036    194351.0   168312.0    1980   \n",
      "249                                21.537626    235640.0   205132.0    1990   \n",
      "250                                19.547294    281494.0   245437.0    2000   \n",
      "251                                13.018023    317522.0   278005.0    2010   \n",
      "\n",
      "     Growth Rate  \n",
      "5      21.555254  \n",
      "6      21.555254  \n",
      "7      21.697135  \n",
      "8      23.893740  \n",
      "9      20.805716  \n",
      "..           ...  \n",
      "247    20.668983  \n",
      "248    24.003036  \n",
      "249    21.537626  \n",
      "250    19.547294  \n",
      "251    13.018023  \n",
      "\n",
      "[147 rows x 10 columns]\n"
     ]
    }
   ],
   "source": [
    "# Display the updated DataFrame\n",
    "print(df_filtered)"
   ]
  },
  {
   "cell_type": "code",
   "execution_count": 15,
   "metadata": {},
   "outputs": [
    {
     "data": {
      "text/plain": [
       "0"
      ]
     },
     "execution_count": 15,
     "metadata": {},
     "output_type": "execute_result"
    }
   ],
   "source": [
    "df_filtered[\"Growth Rate\"].isna().sum()"
   ]
  },
  {
   "cell_type": "code",
   "execution_count": 16,
   "metadata": {},
   "outputs": [
    {
     "name": "stdout",
     "output_type": "stream",
     "text": [
      "<class 'pandas.core.frame.DataFrame'>\n",
      "Index: 147 entries, 5 to 251\n",
      "Data columns (total 10 columns):\n",
      " #   Column                                   Non-Null Count  Dtype  \n",
      "---  ------                                   --------------  -----  \n",
      " 0   Unnamed: 0                               147 non-null    int64  \n",
      " 1   District                                 147 non-null    object \n",
      " 2   Census Year                              147 non-null    int64  \n",
      " 3   Persons                                  147 non-null    float64\n",
      " 4   Absolute change since previous census    137 non-null    float64\n",
      " 5   Percentage change since previous census  137 non-null    float64\n",
      " 6   Males                                    147 non-null    float64\n",
      " 7   Females                                  147 non-null    float64\n",
      " 8   Decade                                   147 non-null    int64  \n",
      " 9   Growth Rate                              147 non-null    float64\n",
      "dtypes: float64(6), int64(3), object(1)\n",
      "memory usage: 12.6+ KB\n"
     ]
    }
   ],
   "source": [
    "df_filtered.info()"
   ]
  },
  {
   "cell_type": "code",
   "execution_count": 17,
   "metadata": {},
   "outputs": [],
   "source": [
    "df_filtered=df_filtered[df_filtered[\"Census Year\"] != 1951]"
   ]
  },
  {
   "cell_type": "code",
   "execution_count": 18,
   "metadata": {},
   "outputs": [
    {
     "data": {
      "text/plain": [
       "count    126.000000\n",
       "mean      20.519338\n",
       "std        7.105672\n",
       "min        4.228656\n",
       "25%       16.307337\n",
       "50%       19.795636\n",
       "75%       24.522667\n",
       "max       43.631847\n",
       "Name: Growth Rate, dtype: float64"
      ]
     },
     "execution_count": 18,
     "metadata": {},
     "output_type": "execute_result"
    }
   ],
   "source": [
    "df_filtered[\"Growth Rate\"].describe()"
   ]
  },
  {
   "cell_type": "code",
   "execution_count": 19,
   "metadata": {},
   "outputs": [],
   "source": [
    "growth_rates_by_decade = df_filtered.groupby('Decade')['Growth Rate'].apply(list).dropna()"
   ]
  },
  {
   "cell_type": "code",
   "execution_count": 20,
   "metadata": {},
   "outputs": [],
   "source": [
    "df_filtered.to_csv(\"hypothesis_data.csv\")"
   ]
  },
  {
   "cell_type": "code",
   "execution_count": 21,
   "metadata": {},
   "outputs": [
    {
     "name": "stdout",
     "output_type": "stream",
     "text": [
      "ANOVA Test for Population Growth Rate Across Decades\n",
      "F-statistic: 7.793558377624727, p-value: 2.2175706801038895e-06\n"
     ]
    }
   ],
   "source": [
    "#Performing ANOVA test\n",
    "anova_result = f_oneway(*growth_rates_by_decade)\n",
    "\n",
    "print(\"ANOVA Test for Population Growth Rate Across Decades\")\n",
    "print(f\"F-statistic: {anova_result.statistic}, p-value: {anova_result.pvalue}\")"
   ]
  },
  {
   "cell_type": "markdown",
   "metadata": {},
   "source": [
    "## Inference drawn from the test:\n",
    "- Using the ANOVA test : we get the p_value = 2.2175706801038895e-06 < 0.05.\n",
    "- The null hypothesis is rejected , therefore there is a significant difference in population growth across different decades 1961 to 2011."
   ]
  },
  {
   "cell_type": "markdown",
   "metadata": {},
   "source": [
    "## To check if the growth rate is significant across different districts from 1961 to 2011.(ANOVA TEST)\n",
    "\n",
    "\n",
    "\n",
    "\n"
   ]
  },
  {
   "cell_type": "code",
   "execution_count": 22,
   "metadata": {},
   "outputs": [
    {
     "name": "stdout",
     "output_type": "stream",
     "text": [
      "F-statistic: 3.16183802541241\n",
      "P-value: 6.844309423661727e-05\n",
      "Reject the null hypothesis: There is a significant difference in growth rates between districts.\n"
     ]
    }
   ],
   "source": [
    "# Group growth rates by district\n",
    "districts = df_filtered['District'].unique()   # array of unique districts \n",
    "#  creates a list of Series, where each Series contains the Growth Rate values for a specific distric\n",
    "growth_rates_by_district = [df_filtered[df_filtered['District'] == district]['Growth Rate'].dropna() for district in districts]\n",
    "\n",
    "# Perform the one way ANOVA test\n",
    "f_statistic, p_value = f_oneway(*growth_rates_by_district)\n",
    "\n",
    "# Print the results\n",
    "print(f\"F-statistic: {f_statistic}\") # f statistic is the ratio between groups variances to within group variances\n",
    "print(f\"P-value: {p_value}\") # p-value indicates the probability that the observed differences between group means are due to random chance\n",
    "\n",
    "# Interpretation\n",
    "alpha = 0.05\n",
    "if p_value <= alpha:\n",
    "    print(\"Reject the null hypothesis: There is a significant difference in growth rates between districts.\")\n",
    "else:\n",
    "    print(\"Fail to reject the null hypothesis: No significant difference in growth rates between districts.\")"
   ]
  },
  {
   "cell_type": "markdown",
   "metadata": {},
   "source": [
    "## Lets work on districts sex ratio over the years and see what mystery lies in it."
   ]
  },
  {
   "cell_type": "code",
   "execution_count": 23,
   "metadata": {},
   "outputs": [],
   "source": [
    "df_sr = pd.read_csv(\"Sex ratio.csv\") "
   ]
  },
  {
   "cell_type": "code",
   "execution_count": 24,
   "metadata": {},
   "outputs": [
    {
     "data": {
      "text/html": [
       "<div>\n",
       "<style scoped>\n",
       "    .dataframe tbody tr th:only-of-type {\n",
       "        vertical-align: middle;\n",
       "    }\n",
       "\n",
       "    .dataframe tbody tr th {\n",
       "        vertical-align: top;\n",
       "    }\n",
       "\n",
       "    .dataframe thead th {\n",
       "        text-align: right;\n",
       "    }\n",
       "</style>\n",
       "<table border=\"1\" class=\"dataframe\">\n",
       "  <thead>\n",
       "    <tr style=\"text-align: right;\">\n",
       "      <th></th>\n",
       "      <th>State/Union Territory/District</th>\n",
       "      <th>Census Year</th>\n",
       "      <th>Persons</th>\n",
       "      <th>Absolute change since previous census</th>\n",
       "      <th>Percentage change since previous census</th>\n",
       "      <th>Males</th>\n",
       "      <th>Females</th>\n",
       "      <th>SexRatioCol</th>\n",
       "      <th>Growth Rate</th>\n",
       "    </tr>\n",
       "  </thead>\n",
       "  <tbody>\n",
       "    <tr>\n",
       "      <th>0</th>\n",
       "      <td>Gurdaspur</td>\n",
       "      <td>1901</td>\n",
       "      <td>702372.0</td>\n",
       "      <td>NaN</td>\n",
       "      <td>NaN</td>\n",
       "      <td>378985.0</td>\n",
       "      <td>323387.0</td>\n",
       "      <td>853.3</td>\n",
       "      <td>0.0</td>\n",
       "    </tr>\n",
       "    <tr>\n",
       "      <th>1</th>\n",
       "      <td>Kapurthala</td>\n",
       "      <td>1901</td>\n",
       "      <td>NaN</td>\n",
       "      <td>NaN</td>\n",
       "      <td>NaN</td>\n",
       "      <td>NaN</td>\n",
       "      <td>NaN</td>\n",
       "      <td>NaN</td>\n",
       "      <td>0.0</td>\n",
       "    </tr>\n",
       "    <tr>\n",
       "      <th>2</th>\n",
       "      <td>Kapurthala</td>\n",
       "      <td>1911</td>\n",
       "      <td>NaN</td>\n",
       "      <td>NaN</td>\n",
       "      <td>NaN</td>\n",
       "      <td>NaN</td>\n",
       "      <td>NaN</td>\n",
       "      <td>NaN</td>\n",
       "      <td>0.0</td>\n",
       "    </tr>\n",
       "    <tr>\n",
       "      <th>3</th>\n",
       "      <td>Kapurthala</td>\n",
       "      <td>1921</td>\n",
       "      <td>NaN</td>\n",
       "      <td>NaN</td>\n",
       "      <td>NaN</td>\n",
       "      <td>NaN</td>\n",
       "      <td>NaN</td>\n",
       "      <td>NaN</td>\n",
       "      <td>0.0</td>\n",
       "    </tr>\n",
       "    <tr>\n",
       "      <th>4</th>\n",
       "      <td>Kapurthala</td>\n",
       "      <td>1931</td>\n",
       "      <td>NaN</td>\n",
       "      <td>NaN</td>\n",
       "      <td>NaN</td>\n",
       "      <td>NaN</td>\n",
       "      <td>NaN</td>\n",
       "      <td>NaN</td>\n",
       "      <td>0.0</td>\n",
       "    </tr>\n",
       "  </tbody>\n",
       "</table>\n",
       "</div>"
      ],
      "text/plain": [
       "  State/Union Territory/District  Census Year   Persons  \\\n",
       "0                      Gurdaspur         1901  702372.0   \n",
       "1                     Kapurthala         1901       NaN   \n",
       "2                     Kapurthala         1911       NaN   \n",
       "3                     Kapurthala         1921       NaN   \n",
       "4                     Kapurthala         1931       NaN   \n",
       "\n",
       "   Absolute change since previous census  \\\n",
       "0                                    NaN   \n",
       "1                                    NaN   \n",
       "2                                    NaN   \n",
       "3                                    NaN   \n",
       "4                                    NaN   \n",
       "\n",
       "   Percentage change since previous census     Males   Females  SexRatioCol  \\\n",
       "0                                      NaN  378985.0  323387.0        853.3   \n",
       "1                                      NaN       NaN       NaN          NaN   \n",
       "2                                      NaN       NaN       NaN          NaN   \n",
       "3                                      NaN       NaN       NaN          NaN   \n",
       "4                                      NaN       NaN       NaN          NaN   \n",
       "\n",
       "   Growth Rate  \n",
       "0          0.0  \n",
       "1          0.0  \n",
       "2          0.0  \n",
       "3          0.0  \n",
       "4          0.0  "
      ]
     },
     "execution_count": 24,
     "metadata": {},
     "output_type": "execute_result"
    }
   ],
   "source": [
    "df_sr.head()"
   ]
  },
  {
   "cell_type": "markdown",
   "metadata": {},
   "source": [
    "### As we have missing data from 1901 to 1951 for the same reason mentioned above we choose to conduct analysis after independence from 1951 to 2011"
   ]
  },
  {
   "cell_type": "code",
   "execution_count": 28,
   "metadata": {},
   "outputs": [],
   "source": [
    "df_sr = df_sr[(df_sr['Census Year'] >= 1951) & (df_sr['Census Year'] <= 2011)]\n"
   ]
  },
  {
   "cell_type": "code",
   "execution_count": 29,
   "metadata": {},
   "outputs": [
    {
     "name": "stdout",
     "output_type": "stream",
     "text": [
      "             count      mean        std     min       25%      50%       75%  \\\n",
      "Census Year                                                                    \n",
      "1951          20.0  841.1750  28.350596  773.42  823.2650  842.585  863.0875   \n",
      "1961          20.0  850.5240  26.312183  815.32  830.0000  843.825  867.7200   \n",
      "1971          20.0  862.6305  20.264538  831.10  849.2675  862.330  877.8775   \n",
      "1981          20.0  876.5780  20.151950  839.74  864.8400  875.945  886.1250   \n",
      "1991          20.0  881.8985  18.199074  844.23  870.7850  883.115  895.4850   \n",
      "2001          20.0  879.6885  23.365254  824.02  870.8300  883.980  888.2400   \n",
      "2011          20.0  897.1115  24.773718  868.31  882.2800  892.130  902.8100   \n",
      "\n",
      "                max  \n",
      "Census Year          \n",
      "1951         880.38  \n",
      "1961         901.66  \n",
      "1971         899.30  \n",
      "1981         918.55  \n",
      "1991         924.31  \n",
      "2001         935.26  \n",
      "2011         961.08  \n"
     ]
    }
   ],
   "source": [
    "descriptive_stats = df_sr.groupby('Census Year')['SexRatioCol'].describe()\n",
    "print(descriptive_stats)"
   ]
  },
  {
   "cell_type": "code",
   "execution_count": 30,
   "metadata": {},
   "outputs": [],
   "source": [
    "df_sr.rename(columns={'State/Union Territory/District': 'District'}, inplace=True)"
   ]
  },
  {
   "cell_type": "code",
   "execution_count": 31,
   "metadata": {},
   "outputs": [],
   "source": [
    "# Pivot the data so that each census year is a column\n",
    "pivoted_df = df_sr.pivot(index='District', columns='Census Year', values='SexRatioCol')"
   ]
  },
  {
   "cell_type": "code",
   "execution_count": 35,
   "metadata": {},
   "outputs": [
    {
     "data": {
      "text/html": [
       "<div>\n",
       "<style scoped>\n",
       "    .dataframe tbody tr th:only-of-type {\n",
       "        vertical-align: middle;\n",
       "    }\n",
       "\n",
       "    .dataframe tbody tr th {\n",
       "        vertical-align: top;\n",
       "    }\n",
       "\n",
       "    .dataframe thead th {\n",
       "        text-align: right;\n",
       "    }\n",
       "</style>\n",
       "<table border=\"1\" class=\"dataframe\">\n",
       "  <thead>\n",
       "    <tr style=\"text-align: right;\">\n",
       "      <th>Census Year</th>\n",
       "      <th>1951</th>\n",
       "      <th>1961</th>\n",
       "      <th>1971</th>\n",
       "      <th>1981</th>\n",
       "      <th>1991</th>\n",
       "      <th>2001</th>\n",
       "      <th>2011</th>\n",
       "    </tr>\n",
       "    <tr>\n",
       "      <th>District</th>\n",
       "      <th></th>\n",
       "      <th></th>\n",
       "      <th></th>\n",
       "      <th></th>\n",
       "      <th></th>\n",
       "      <th></th>\n",
       "      <th></th>\n",
       "    </tr>\n",
       "  </thead>\n",
       "  <tbody>\n",
       "    <tr>\n",
       "      <th>Amritsar</th>\n",
       "      <td>826.64</td>\n",
       "      <td>841.59</td>\n",
       "      <td>852.92</td>\n",
       "      <td>869.66</td>\n",
       "      <td>877.84</td>\n",
       "      <td>871.08</td>\n",
       "      <td>889.14</td>\n",
       "    </tr>\n",
       "    <tr>\n",
       "      <th>Barnala</th>\n",
       "      <td>817.29</td>\n",
       "      <td>836.75</td>\n",
       "      <td>843.18</td>\n",
       "      <td>866.02</td>\n",
       "      <td>870.53</td>\n",
       "      <td>871.91</td>\n",
       "      <td>875.55</td>\n",
       "    </tr>\n",
       "    <tr>\n",
       "      <th>Bathinda</th>\n",
       "      <td>838.95</td>\n",
       "      <td>834.31</td>\n",
       "      <td>850.66</td>\n",
       "      <td>861.30</td>\n",
       "      <td>884.08</td>\n",
       "      <td>869.91</td>\n",
       "      <td>868.31</td>\n",
       "    </tr>\n",
       "    <tr>\n",
       "      <th>Faridkot</th>\n",
       "      <td>856.07</td>\n",
       "      <td>849.11</td>\n",
       "      <td>866.20</td>\n",
       "      <td>879.13</td>\n",
       "      <td>882.60</td>\n",
       "      <td>882.77</td>\n",
       "      <td>890.31</td>\n",
       "    </tr>\n",
       "    <tr>\n",
       "      <th>Fatehgarh Sahib</th>\n",
       "      <td>773.42</td>\n",
       "      <td>815.32</td>\n",
       "      <td>831.39</td>\n",
       "      <td>841.37</td>\n",
       "      <td>870.87</td>\n",
       "      <td>854.43</td>\n",
       "      <td>870.86</td>\n",
       "    </tr>\n",
       "    <tr>\n",
       "      <th>Firozpur</th>\n",
       "      <td>835.10</td>\n",
       "      <td>840.16</td>\n",
       "      <td>876.08</td>\n",
       "      <td>883.66</td>\n",
       "      <td>895.26</td>\n",
       "      <td>885.19</td>\n",
       "      <td>893.43</td>\n",
       "    </tr>\n",
       "    <tr>\n",
       "      <th>Gurdaspur</th>\n",
       "      <td>846.22</td>\n",
       "      <td>869.25</td>\n",
       "      <td>890.34</td>\n",
       "      <td>907.33</td>\n",
       "      <td>902.58</td>\n",
       "      <td>890.26</td>\n",
       "      <td>895.34</td>\n",
       "    </tr>\n",
       "    <tr>\n",
       "      <th>Hoshiarpur</th>\n",
       "      <td>877.32</td>\n",
       "      <td>901.66</td>\n",
       "      <td>899.30</td>\n",
       "      <td>918.55</td>\n",
       "      <td>924.31</td>\n",
       "      <td>935.26</td>\n",
       "      <td>961.08</td>\n",
       "    </tr>\n",
       "    <tr>\n",
       "      <th>Jalandhar</th>\n",
       "      <td>857.22</td>\n",
       "      <td>867.21</td>\n",
       "      <td>883.27</td>\n",
       "      <td>890.16</td>\n",
       "      <td>897.29</td>\n",
       "      <td>886.89</td>\n",
       "      <td>915.45</td>\n",
       "    </tr>\n",
       "    <tr>\n",
       "      <th>Kapurthala</th>\n",
       "      <td>880.38</td>\n",
       "      <td>885.79</td>\n",
       "      <td>889.38</td>\n",
       "      <td>897.93</td>\n",
       "      <td>896.16</td>\n",
       "      <td>888.08</td>\n",
       "      <td>912.14</td>\n",
       "    </tr>\n",
       "    <tr>\n",
       "      <th>Ludhiana</th>\n",
       "      <td>852.27</td>\n",
       "      <td>856.34</td>\n",
       "      <td>847.79</td>\n",
       "      <td>859.73</td>\n",
       "      <td>844.23</td>\n",
       "      <td>824.02</td>\n",
       "      <td>873.17</td>\n",
       "    </tr>\n",
       "    <tr>\n",
       "      <th>Mansa</th>\n",
       "      <td>824.29</td>\n",
       "      <td>829.88</td>\n",
       "      <td>852.40</td>\n",
       "      <td>869.13</td>\n",
       "      <td>872.55</td>\n",
       "      <td>879.56</td>\n",
       "      <td>883.27</td>\n",
       "    </tr>\n",
       "    <tr>\n",
       "      <th>Moga</th>\n",
       "      <td>866.77</td>\n",
       "      <td>862.40</td>\n",
       "      <td>865.79</td>\n",
       "      <td>881.43</td>\n",
       "      <td>884.20</td>\n",
       "      <td>887.33</td>\n",
       "      <td>893.34</td>\n",
       "    </tr>\n",
       "    <tr>\n",
       "      <th>Muktsar</th>\n",
       "      <td>861.86</td>\n",
       "      <td>846.06</td>\n",
       "      <td>862.52</td>\n",
       "      <td>884.78</td>\n",
       "      <td>879.77</td>\n",
       "      <td>890.71</td>\n",
       "      <td>896.25</td>\n",
       "    </tr>\n",
       "    <tr>\n",
       "      <th>Patiala</th>\n",
       "      <td>801.88</td>\n",
       "      <td>828.57</td>\n",
       "      <td>849.76</td>\n",
       "      <td>870.99</td>\n",
       "      <td>883.63</td>\n",
       "      <td>874.97</td>\n",
       "      <td>890.92</td>\n",
       "    </tr>\n",
       "    <tr>\n",
       "      <th>Rupnagar</th>\n",
       "      <td>809.96</td>\n",
       "      <td>816.04</td>\n",
       "      <td>872.65</td>\n",
       "      <td>881.54</td>\n",
       "      <td>886.63</td>\n",
       "      <td>888.72</td>\n",
       "      <td>915.12</td>\n",
       "    </tr>\n",
       "    <tr>\n",
       "      <th>Sahibzada Ajit Singh Nagar</th>\n",
       "      <td>832.75</td>\n",
       "      <td>821.40</td>\n",
       "      <td>831.10</td>\n",
       "      <td>839.74</td>\n",
       "      <td>854.30</td>\n",
       "      <td>841.87</td>\n",
       "      <td>879.31</td>\n",
       "    </tr>\n",
       "    <tr>\n",
       "      <th>Sangrur</th>\n",
       "      <td>820.19</td>\n",
       "      <td>830.04</td>\n",
       "      <td>838.71</td>\n",
       "      <td>857.97</td>\n",
       "      <td>869.92</td>\n",
       "      <td>870.08</td>\n",
       "      <td>885.10</td>\n",
       "    </tr>\n",
       "    <tr>\n",
       "      <th>Shahid Bhagat Singh Nagar</th>\n",
       "      <td>876.35</td>\n",
       "      <td>899.75</td>\n",
       "      <td>887.03</td>\n",
       "      <td>898.38</td>\n",
       "      <td>899.65</td>\n",
       "      <td>914.19</td>\n",
       "      <td>954.44</td>\n",
       "    </tr>\n",
       "    <tr>\n",
       "      <th>Tarn Taran</th>\n",
       "      <td>868.57</td>\n",
       "      <td>878.85</td>\n",
       "      <td>862.14</td>\n",
       "      <td>872.76</td>\n",
       "      <td>861.57</td>\n",
       "      <td>886.54</td>\n",
       "      <td>899.70</td>\n",
       "    </tr>\n",
       "  </tbody>\n",
       "</table>\n",
       "</div>"
      ],
      "text/plain": [
       "Census Year                   1951    1961    1971    1981    1991    2001  \\\n",
       "District                                                                     \n",
       "Amritsar                    826.64  841.59  852.92  869.66  877.84  871.08   \n",
       "Barnala                     817.29  836.75  843.18  866.02  870.53  871.91   \n",
       "Bathinda                    838.95  834.31  850.66  861.30  884.08  869.91   \n",
       "Faridkot                    856.07  849.11  866.20  879.13  882.60  882.77   \n",
       "Fatehgarh Sahib             773.42  815.32  831.39  841.37  870.87  854.43   \n",
       "Firozpur                    835.10  840.16  876.08  883.66  895.26  885.19   \n",
       "Gurdaspur                   846.22  869.25  890.34  907.33  902.58  890.26   \n",
       "Hoshiarpur                  877.32  901.66  899.30  918.55  924.31  935.26   \n",
       "Jalandhar                   857.22  867.21  883.27  890.16  897.29  886.89   \n",
       "Kapurthala                  880.38  885.79  889.38  897.93  896.16  888.08   \n",
       "Ludhiana                    852.27  856.34  847.79  859.73  844.23  824.02   \n",
       "Mansa                       824.29  829.88  852.40  869.13  872.55  879.56   \n",
       "Moga                        866.77  862.40  865.79  881.43  884.20  887.33   \n",
       "Muktsar                     861.86  846.06  862.52  884.78  879.77  890.71   \n",
       "Patiala                     801.88  828.57  849.76  870.99  883.63  874.97   \n",
       "Rupnagar                    809.96  816.04  872.65  881.54  886.63  888.72   \n",
       "Sahibzada Ajit Singh Nagar  832.75  821.40  831.10  839.74  854.30  841.87   \n",
       "Sangrur                     820.19  830.04  838.71  857.97  869.92  870.08   \n",
       "Shahid Bhagat Singh Nagar   876.35  899.75  887.03  898.38  899.65  914.19   \n",
       "Tarn Taran                  868.57  878.85  862.14  872.76  861.57  886.54   \n",
       "\n",
       "Census Year                   2011  \n",
       "District                            \n",
       "Amritsar                    889.14  \n",
       "Barnala                     875.55  \n",
       "Bathinda                    868.31  \n",
       "Faridkot                    890.31  \n",
       "Fatehgarh Sahib             870.86  \n",
       "Firozpur                    893.43  \n",
       "Gurdaspur                   895.34  \n",
       "Hoshiarpur                  961.08  \n",
       "Jalandhar                   915.45  \n",
       "Kapurthala                  912.14  \n",
       "Ludhiana                    873.17  \n",
       "Mansa                       883.27  \n",
       "Moga                        893.34  \n",
       "Muktsar                     896.25  \n",
       "Patiala                     890.92  \n",
       "Rupnagar                    915.12  \n",
       "Sahibzada Ajit Singh Nagar  879.31  \n",
       "Sangrur                     885.10  \n",
       "Shahid Bhagat Singh Nagar   954.44  \n",
       "Tarn Taran                  899.70  "
      ]
     },
     "execution_count": 35,
     "metadata": {},
     "output_type": "execute_result"
    }
   ],
   "source": [
    "pivoted_df"
   ]
  },
  {
   "cell_type": "code",
   "execution_count": 36,
   "metadata": {},
   "outputs": [],
   "source": [
    "# Extract the sex ratios for each census year into separate lists\n",
    "sex_ratios_1951 = pivoted_df[1951].dropna()\n",
    "sex_ratios_1961 = pivoted_df[1961].dropna()\n",
    "sex_ratios_1971 = pivoted_df[1971].dropna()\n",
    "sex_ratios_1981 = pivoted_df[1981].dropna()\n",
    "sex_ratios_1991 = pivoted_df[1991].dropna()\n",
    "sex_ratios_2001 = pivoted_df[2001].dropna()\n",
    "sex_ratios_2011 = pivoted_df[2011].dropna()"
   ]
  },
  {
   "cell_type": "code",
   "execution_count": 37,
   "metadata": {},
   "outputs": [
    {
     "data": {
      "text/plain": [
       "District\n",
       "Amritsar                      826.64\n",
       "Barnala                       817.29\n",
       "Bathinda                      838.95\n",
       "Faridkot                      856.07\n",
       "Fatehgarh Sahib               773.42\n",
       "Firozpur                      835.10\n",
       "Gurdaspur                     846.22\n",
       "Hoshiarpur                    877.32\n",
       "Jalandhar                     857.22\n",
       "Kapurthala                    880.38\n",
       "Ludhiana                      852.27\n",
       "Mansa                         824.29\n",
       "Moga                          866.77\n",
       "Muktsar                       861.86\n",
       "Patiala                       801.88\n",
       "Rupnagar                      809.96\n",
       "Sahibzada Ajit Singh Nagar    832.75\n",
       "Sangrur                       820.19\n",
       "Shahid Bhagat Singh Nagar     876.35\n",
       "Tarn Taran                    868.57\n",
       "Name: 1951, dtype: float64"
      ]
     },
     "execution_count": 37,
     "metadata": {},
     "output_type": "execute_result"
    }
   ],
   "source": [
    "sex_ratios_1951"
   ]
  },
  {
   "cell_type": "code",
   "execution_count": 38,
   "metadata": {},
   "outputs": [
    {
     "name": "stdout",
     "output_type": "stream",
     "text": [
      "F-statistic: 13.975440473685312\n",
      "P-value: 2.755782168571373e-12\n",
      "Reject the null hypothesis: There is a significant difference in sex ratios across the census years.\n"
     ]
    }
   ],
   "source": [
    "f_statistic, p_value = f_oneway(sex_ratios_1951, sex_ratios_1961, sex_ratios_1971, sex_ratios_1981, \n",
    "                                sex_ratios_1991, sex_ratios_2001, sex_ratios_2011)\n",
    "\n",
    "print(f\"F-statistic: {f_statistic}\")\n",
    "print(f\"P-value: {p_value}\")\n",
    "\n",
    "# Interpretation\n",
    "alpha = 0.05\n",
    "if p_value <= alpha:\n",
    "    print(\"Reject the null hypothesis: There is a significant difference in sex ratios across the census years.\")\n",
    "else:\n",
    "    print(\"Fail to reject the null hypothesis: No significant difference in sex ratios across the census years.\")"
   ]
  },
  {
   "cell_type": "code",
   "execution_count": null,
   "metadata": {},
   "outputs": [],
   "source": []
  },
  {
   "cell_type": "code",
   "execution_count": 39,
   "metadata": {},
   "outputs": [
    {
     "data": {
      "image/png": "[encoded data removed]",
      "text/plain": [
       "<Figure size 1000x600 with 1 Axes>"
      ]
     },
     "metadata": {},
     "output_type": "display_data"
    }
   ],
   "source": [
    "import matplotlib.pyplot as plt\n",
    "\n",
    "# Calculate the mean sex ratio for each census year\n",
    "mean_sex_ratio = df_sr.groupby('Census Year')['SexRatioCol'].mean()\n",
    "\n",
    "# Plot the trend\n",
    "plt.figure(figsize=(10, 6))\n",
    "plt.plot(mean_sex_ratio.index, mean_sex_ratio.values, marker='o')\n",
    "plt.title('Trend of Sex Ratio Across Census Years')\n",
    "plt.xlabel('Census Year')\n",
    "plt.ylabel('Mean Sex Ratio')\n",
    "plt.grid(True)\n",
    "plt.show()\n"
   ]
  },
  {
   "cell_type": "code",
   "execution_count": null,
   "metadata": {},
   "outputs": [],
   "source": []
  },
  {
   "cell_type": "markdown",
   "metadata": {},
   "source": [
    "### Lets see the trends in male female population across the years"
   ]
  },
  {
   "cell_type": "code",
   "execution_count": 40,
   "metadata": {},
   "outputs": [],
   "source": [
    "from scipy.stats import pearsonr"
   ]
  },
  {
   "cell_type": "code",
   "execution_count": 41,
   "metadata": {},
   "outputs": [
    {
     "name": "stdout",
     "output_type": "stream",
     "text": [
      "Pearson Correlation: 0.9998726961997777\n",
      "P-value: 1.0392466838436966e-224\n",
      "Reject the null hypothesis: There is a significant correlation between male and female counts.\n"
     ]
    }
   ],
   "source": [
    "correlation, p_value = pearsonr(df_filtered['Males'], df_filtered['Females'])\n",
    "\n",
    "print(f\"Pearson Correlation: {correlation}\")\n",
    "print(f\"P-value: {p_value}\")\n",
    "\n",
    "if p_value <= 0.05:\n",
    "    print(\"Reject the null hypothesis: There is a significant correlation between male and female counts.\")\n",
    "else:\n",
    "    print(\"Fail to reject the null hypothesis: No significant correlation between male and female counts.\")"
   ]
  }
 ],
 "metadata": {
  "kernelspec": {
   "display_name": "Python 3",
   "language": "python",
   "name": "python3"
  },
  "language_info": {
   "codemirror_mode": {
    "name": "ipython",
    "version": 3
   },
   "file_extension": ".py",
   "mimetype": "text/x-python",
   "name": "python",
   "nbconvert_exporter": "python",
   "pygments_lexer": "ipython3",
   "version": "3.10.9"
  }
 },
 "nbformat": 4,
 "nbformat_minor": 2
}
